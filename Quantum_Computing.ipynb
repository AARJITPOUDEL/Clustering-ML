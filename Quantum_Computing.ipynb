{
  "nbformat": 4,
  "nbformat_minor": 0,
  "metadata": {
    "colab": {
      "provenance": []
    },
    "kernelspec": {
      "name": "python3",
      "display_name": "Python 3"
    },
    "language_info": {
      "name": "python"
    }
  },
  "cells": [
    {
      "cell_type": "code",
      "source": [
        "from qiskit import QuantumCircuit\n",
        "import matplotlib.pyplot as plt"
      ],
      "metadata": {
        "id": "s1pdtyI2vLwG"
      },
      "execution_count": 17,
      "outputs": []
    },
    {
      "cell_type": "code",
      "source": [
        "circuit = QuantumCircuit(1)"
      ],
      "metadata": {
        "id": "D7GU1d_Ovs_M"
      },
      "execution_count": 23,
      "outputs": []
    },
    {
      "cell_type": "code",
      "source": [
        "circuit.h(0)\n",
        "circuit.s(0)\n",
        "circuit.h(0)\n",
        "circuit.t(0)\n",
        "circuit.draw()"
      ],
      "metadata": {
        "colab": {
          "base_uri": "https://localhost:8080/",
          "height": 63
        },
        "id": "gpcFVIzbvxJc",
        "outputId": "4e451012-6254-4e65-eae0-90a2f3a99520"
      },
      "execution_count": 24,
      "outputs": [
        {
          "output_type": "execute_result",
          "data": {
            "text/plain": [
              "   ┌───┐┌───┐┌───┐┌───┐\n",
              "q: ┤ H ├┤ S ├┤ H ├┤ T ├\n",
              "   └───┘└───┘└───┘└───┘"
            ],
            "text/html": [
              "<pre style=\"word-wrap: normal;white-space: pre;background: #fff0;line-height: 1.1;font-family: &quot;Courier New&quot;,Courier,monospace\">   ┌───┐┌───┐┌───┐┌───┐\n",
              "q: ┤ H ├┤ S ├┤ H ├┤ T ├\n",
              "   └───┘└───┘└───┘└───┘</pre>"
            ]
          },
          "metadata": {},
          "execution_count": 24
        }
      ]
    }
  ]
}