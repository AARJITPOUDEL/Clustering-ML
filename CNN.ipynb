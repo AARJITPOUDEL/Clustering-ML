{
  "nbformat": 4,
  "nbformat_minor": 0,
  "metadata": {
    "colab": {
      "provenance": []
    },
    "kernelspec": {
      "name": "python3",
      "display_name": "Python 3"
    },
    "language_info": {
      "name": "python"
    }
  },
  "cells": [
    {
      "cell_type": "code",
      "execution_count": 27,
      "metadata": {
        "id": "6TUgfWbViGHS"
      },
      "outputs": [],
      "source": [
        "from tensorflow.keras.datasets import mnist\n",
        "from tensorflow.keras.layers import Conv2D, MaxPooling2D,Dense,Flatten\n",
        "from tensorflow.keras.models import Sequential\n",
        "from tensorflow.keras.utils import to_categorical"
      ]
    },
    {
      "cell_type": "code",
      "source": [
        "(x_train, y_train), (x_test, y_test) = mnist.load_data()"
      ],
      "metadata": {
        "id": "JYMqF8Vh8Z8d"
      },
      "execution_count": 28,
      "outputs": []
    },
    {
      "cell_type": "code",
      "source": [
        "x_train_cnn = x_train.reshape((x_train.shape[0], 28,28,1))\n",
        "x_test_cnn = x_test.reshape((x_test.shape[0],28,28,1))\n",
        "\n",
        "y_train_cnn = to_categorical(y_train)\n",
        "y_test_cnn = to_categorical(y_test)"
      ],
      "metadata": {
        "id": "2ENVM5ug3NYp"
      },
      "execution_count": 29,
      "outputs": []
    },
    {
      "cell_type": "code",
      "source": [
        "model_cnn = Sequential()\n",
        "model_cnn.add(Conv2D(32, (3,3), activation='relu', input_shape=(28,28, 1)))\n",
        "model_cnn.add(MaxPooling2D(2,2))\n",
        "model_cnn.add(Conv2D(64, (3,3), activation='relu'))\n",
        "model_cnn.add(Flatten())\n",
        "model_cnn.add(Dense(64, activation='relu'))\n",
        "model_cnn.add(Dense(10, activation='softmax'))\n",
        "\n",
        "model_cnn.compile(optimizer='adam',\n",
        "                  loss='categorical_crossentropy',\n",
        "                  metrics=['accuracy']\n",
        "                  )\n",
        "model_cnn.fit(x_train_cnn,\n",
        "              y_train_cnn,\n",
        "              epochs=2,\n",
        "  batch_size=32,\n",
        "    validation_data=(x_test_cnn,y_test_cnn)\n",
        "              )"
      ],
      "metadata": {
        "id": "bGKyx0tr5ok0",
        "colab": {
          "base_uri": "https://localhost:8080/"
        },
        "outputId": "ca51e2fc-282b-4f60-b930-f380a76b5e48"
      },
      "execution_count": 32,
      "outputs": [
        {
          "output_type": "stream",
          "name": "stdout",
          "text": [
            "Epoch 1/2\n",
            "1875/1875 [==============================] - 74s 39ms/step - loss: 0.3141 - accuracy: 0.9477 - val_loss: 0.0781 - val_accuracy: 0.9783\n",
            "Epoch 2/2\n",
            "1875/1875 [==============================] - 70s 37ms/step - loss: 0.0628 - accuracy: 0.9812 - val_loss: 0.0617 - val_accuracy: 0.9814\n"
          ]
        },
        {
          "output_type": "execute_result",
          "data": {
            "text/plain": [
              "<keras.callbacks.History at 0x7fd23b70ba30>"
            ]
          },
          "metadata": {},
          "execution_count": 32
        }
      ]
    },
    {
      "cell_type": "code",
      "source": [
        "\n"
      ],
      "metadata": {
        "id": "BcxlTROY83Qm"
      },
      "execution_count": null,
      "outputs": []
    }
  ]
}